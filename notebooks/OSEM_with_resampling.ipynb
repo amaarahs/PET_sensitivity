{
 "cells": [
  {
   "cell_type": "code",
   "execution_count": null,
   "metadata": {},
   "outputs": [],
   "source": [
    "import sirf.STIR as stir\n",
    "import sirf.Reg as reg\n",
    "import numpy as np\n",
    "import os\n",
    "import sys\n",
    "# add the source directory to the path\n",
    "# This is to make everything nice and self-contained\n",
    "dir_path = os.path.dirname(os.getcwd())\n",
    "source_path = os.path.join(dir_path, 'source')\n",
    "sys.path.append(source_path)\n",
    "\n",
    "from reconstruction.reconstruction import *\n",
    "from reconstruction.registration import *\n",
    "from reconstruction.osem import *\n",
    "from plotting_functions import plot_2d_image\n",
    "\n",
    "# and some additional functions for plotting\n",
    "import matplotlib.pyplot as plt\n",
    "from matplotlib.patches import FancyArrowPatch\n",
    "import imageio\n",
    "from plotting_functions import *\n",
    "from IPython.display import Image"
   ]
  },
  {
   "cell_type": "code",
   "execution_count": null,
   "metadata": {},
   "outputs": [],
   "source": [
    "# First, let's get some template data\n",
    "data_path = os.path.join(dir_path, 'data', 'template_data')\n",
    "emission_image = stir.ImageData(os.path.join(data_path, 'emission.hv'))\n",
    "attenuation_image = stir.ImageData(os.path.join(data_path, 'attenuation.hv'))\n",
    "template_sinogram = stir.AcquisitionData(os.path.join(data_path, 'template_sinogram.hs'))"
   ]
  },
  {
   "cell_type": "code",
   "execution_count": null,
   "metadata": {},
   "outputs": [],
   "source": [
    "num_motion_states = 10\n",
    "num_osem_subsets = 8"
   ]
  },
  {
   "cell_type": "code",
   "execution_count": null,
   "metadata": {},
   "outputs": [],
   "source": [
    "motion_emissions, motion_attenuations = [transformed_images for transformed_images in zip(*[generate_transformed_image(emission_image, attenuation_image) for i in range(num_motion_states)])]"
   ]
  },
  {
   "cell_type": "code",
   "execution_count": null,
   "metadata": {},
   "outputs": [],
   "source": [
    "acquisition_models = [get_acquisition_model(emission_image, template_sinogram, attn, num_subsets=num_osem_subsets) for attn in motion_attenuations]\n",
    "acquired_data = [get_acquired_data(image, acq_model) for image, acq_model in zip(motion_emissions, acquisition_models)]\n",
    "sensitvity_images = [acq_model.backward(acquired_data[i].get_uniform_copy(1)) for i, acq_model in enumerate(acquisition_models)]"
   ]
  },
  {
   "cell_type": "code",
   "execution_count": null,
   "metadata": {},
   "outputs": [],
   "source": [
    "fig, ax = plt.subplots(2, 5, figsize=(20, 3))\n",
    "for i in range(2):\n",
    "    for j in range(5):\n",
    "        plot_2d_image([2,5,5*i+j+1], acquired_data[5*i+j].as_array()[0,0], \"data\")"
   ]
  },
  {
   "cell_type": "code",
   "execution_count": null,
   "metadata": {},
   "outputs": [],
   "source": []
  }
 ],
 "metadata": {
  "kernelspec": {
   "display_name": "Python 3",
   "language": "python",
   "name": "python3"
  },
  "language_info": {
   "codemirror_mode": {
    "name": "ipython"
   },
   "file_extension": ".py",
   "mimetype": "text/x-python",
   "name": "python",
   "nbconvert_exporter": "python"
  }
 },
 "nbformat": 4,
 "nbformat_minor": 2
}
