{
 "cells": [
  {
   "cell_type": "markdown",
   "metadata": {},
   "source": [
    "A short notebook to demonstrate the data that we're using for training\n",
    "\n",
    "Comments to follow"
   ]
  },
  {
   "cell_type": "code",
   "execution_count": null,
   "metadata": {},
   "outputs": [],
   "source": [
    "from torch import *\n",
    "import os\n",
    "import numpy as np\n",
    "import matplotlib.pyplot as plt "
   ]
  },
  {
   "cell_type": "code",
   "execution_count": null,
   "metadata": {},
   "outputs": [],
   "source": [
    "path_to_data = os.path.join(os.path.dirname(os.getcwd()), 'data', 'training_data')"
   ]
  },
  {
   "cell_type": "code",
   "execution_count": null,
   "metadata": {},
   "outputs": [],
   "source": [
    "X_data = load(os.path.join(path_to_data, \"plus_non_attenuated/ellipses_X_train_n16_0.pt\"))\n",
    "y_data = load(os.path.join(path_to_data, \"plus_non_attenuated/ellipses_y_train_n16_0.pt\"))"
   ]
  },
  {
   "cell_type": "code",
   "execution_count": null,
   "metadata": {},
   "outputs": [],
   "source": [
    "# view random sample as image\n",
    "index = np.random.randint(0, X_data.shape[0])\n",
    "\n",
    "X = X_data[index]\n",
    "y = y_data[index]"
   ]
  },
  {
   "cell_type": "code",
   "execution_count": null,
   "metadata": {},
   "outputs": [],
   "source": [
    "fig, ax  = plt.subplots(1, 3, figsize=(15, 5))\n",
    "im0 = ax[0].imshow(X[0])\n",
    "im1 = ax[1].imshow(X[1])\n",
    "im2 = ax[2].imshow(X[2])\n",
    "fig.colorbar(im0, ax=ax[0], shrink=0.6)\n",
    "fig.colorbar(im1, ax=ax[1], shrink=0.6)\n",
    "fig.colorbar(im2, ax=ax[2], shrink=0.6)"
   ]
  },
  {
   "cell_type": "code",
   "execution_count": null,
   "metadata": {},
   "outputs": [],
   "source": [
    "plt.imshow(y)\n",
    "plt.colorbar()"
   ]
  }
 ],
 "metadata": {
  "kernelspec": {
   "display_name": "Python 3",
   "language": "python",
   "name": "python3"
  },
  "language_info": {
   "codemirror_mode": {
    "name": "ipython"
   },
   "file_extension": ".py",
   "mimetype": "text/x-python",
   "name": "python",
   "nbconvert_exporter": "python"
  }
 },
 "nbformat": 4,
 "nbformat_minor": 2
}
